{
 "cells": [
  {
   "cell_type": "code",
   "metadata": {
    "jupyter": {
     "is_executing": true
    }
   },
   "source": [
    "from dotenv import load_dotenv\n",
    "\n",
    "load_dotenv()\n",
    "\n"
   ],
   "outputs": [],
   "execution_count": null
  },
  {
   "cell_type": "code",
   "metadata": {
    "ExecuteTime": {
     "end_time": "2025-05-13T11:43:48.620185Z",
     "start_time": "2025-05-13T11:43:39.850078Z"
    }
   },
   "source": [
    "from langchain_naver.chat_models import ChatClovaX\n",
    "\n",
    "\n",
    "llm = ChatClovaX(model_name=\"HCX-005-BETA\")\n",
    "llm.invoke(\"인프런에 어떤 강의가 있어요?\")"
   ],
   "outputs": [
    {
     "data": {
      "text/plain": [
       "AIMessage(content=\"네, 인프런에는 다양한 분야의 온라인 강의들이 있습니다. 여기 몇 가지 예시를 들어보겠습니다:\\n\\n1. **개발**: 웹 개발(HTML/CSS, JavaScript 등), 앱 개발(Android, iOS 등), 프로그래밍 언어(C++, Python, Java 등) 등의 강의가 있습니다.\\n2. **데이터 사이언스 및 분석**: 데이터 분석(Python, R 등), 머신 러닝과 딥러닝(TensorFlow, PyTorch 등), 빅데이터(Hadoop, Spark 등) 관련 강의를 찾을 수 있습니다.\\n3. **디자인**: 그래픽 디자인, UI/UX 디자인, 일러스트레이션 등의 디자인 관련 강의도 제공됩니다.\\n4. **비즈니스 및 마케팅**: 디지털 마케팅, 비즈니스 전략, 프로젝트 관리 등과 같은 비즈니스와 관련된 강의들도 있습니다.\\n5. **자기계발**: 시간관리, 커뮤니케이션 기술 향상, 스트레스 관리 등 자기 계발을 위한 강의도 찾아볼 수 있습니다.\\n\\n이 외에도 IT 자격증 취득을 위한 강의나 취미 생활과 관련된 강의까지 매우 다양합니다. 각 강의는 초급부터 고급 수준까지 다양하게 구성되어 있어, 사용자의 필요와 실력에 맞게 선택할 수 있습니다.\\n\\n강의의 품질이나 내용에 대한 정보는 사용자 리뷰를 통해 확인할 수도 있으며, 무료로 제공되는 강의도 많기 때문에 부담 없이 시작해보실 수 있습니다. 인프런 홈페이지에서 '카테고리' 또는 '검색 기능'을 활용하여 원하는 주제의 강의를 쉽게 찾으실 수 있습니다.\", additional_kwargs={'refusal': None}, response_metadata={'token_usage': {'completion_tokens': 304, 'prompt_tokens': 15, 'total_tokens': 319, 'completion_tokens_details': None, 'prompt_tokens_details': None}, 'model_name': 'HCX-005-BETA', 'system_fingerprint': None, 'id': 'd8acfc0d68a64aa7b6da371cf8f37994', 'service_tier': None, 'finish_reason': 'stop', 'logprobs': None}, id='run--8ee1294c-e7fc-4f5f-838e-209c1d668f11-0', usage_metadata={'input_tokens': 15, 'output_tokens': 304, 'total_tokens': 319, 'input_token_details': {}, 'output_token_details': {}})"
      ]
     },
     "execution_count": 6,
     "metadata": {},
     "output_type": "execute_result"
    }
   ],
   "execution_count": 6
  }
 ],
 "metadata": {
  "kernelspec": {
   "display_name": "inflearn-llm-application",
   "language": "python",
   "name": "python3"
  },
  "language_info": {
   "codemirror_mode": {
    "name": "ipython",
    "version": 3
   },
   "file_extension": ".py",
   "mimetype": "text/x-python",
   "name": "python",
   "nbconvert_exporter": "python",
   "pygments_lexer": "ipython3",
   "version": "3.11.9"
  }
 },
 "nbformat": 4,
 "nbformat_minor": 2
}
